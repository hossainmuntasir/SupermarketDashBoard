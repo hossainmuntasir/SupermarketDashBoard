{
 "cells": [
  {
   "cell_type": "code",
   "execution_count": 1,
   "id": "879b2c75",
   "metadata": {},
   "outputs": [
    {
     "name": "stdout",
     "output_type": "stream",
     "text": [
      "Upper bound is 59.957\n",
      "Lower bound is -13.534\n",
      "The true mean is $32.136\n"
     ]
    }
   ],
   "source": [
    "#Task 4 b\n",
    "import pandas as pd\n",
    "import scipy.stats as st\n",
    "df = pd.read_excel('Major Assignment Superstore Data.xlsx','Sample')\n",
    "#filter data\n",
    "eastprof = df[df['Region']=='East']\n",
    "\n",
    "n= eastprof[[\"Profit\"]].count()\n",
    "degf=n-1\n",
    "mean = eastprof[['Profit']].mean()\n",
    "stdev = eastprof[[\"Profit\"]].std()\n",
    "stderr = stdev/n**0.5\n",
    "\n",
    "ciep = st.t.interval(0.95,degf, mean, stderr )\n",
    "\n",
    "print('Upper bound is %.3f' %ciep[1])\n",
    "print('Lower bound is %.3f' %ciep[0])\n",
    "\n",
    "\n",
    "#True population mean for East Profit\n",
    "dfp = pd.read_excel('Major Assignment Superstore Data.xlsx','Orders')\n",
    "EPpop = dfp[dfp['Region']=='East']\n",
    "meanp = EPpop[['Profit']].mean()\n",
    "print('The true mean is $%.3f' %meanp)"
   ]
  },
  {
   "cell_type": "code",
   "execution_count": null,
   "id": "2018066f",
   "metadata": {},
   "outputs": [],
   "source": []
  },
  {
   "cell_type": "code",
   "execution_count": null,
   "id": "bc939fc2",
   "metadata": {},
   "outputs": [],
   "source": []
  }
 ],
 "metadata": {
  "kernelspec": {
   "display_name": "Python 3 (ipykernel)",
   "language": "python",
   "name": "python3"
  },
  "language_info": {
   "codemirror_mode": {
    "name": "ipython",
    "version": 3
   },
   "file_extension": ".py",
   "mimetype": "text/x-python",
   "name": "python",
   "nbconvert_exporter": "python",
   "pygments_lexer": "ipython3",
   "version": "3.9.13"
  }
 },
 "nbformat": 4,
 "nbformat_minor": 5
}
