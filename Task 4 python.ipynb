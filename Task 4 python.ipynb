{
 "cells": [
  {
   "cell_type": "code",
   "execution_count": 26,
   "id": "0c92be7a",
   "metadata": {},
   "outputs": [
    {
     "name": "stdout",
     "output_type": "stream",
     "text": [
      "Upper bound is 341.120\n",
      "Lower bound is 131.358\n",
      "The true mean is $223.734\n"
     ]
    }
   ],
   "source": [
    "#Task 4 a\n",
    "import pandas as pd\n",
    "import scipy.stats as st\n",
    "df = pd.read_excel('Major Assignment Superstore Data.xlsx','Sample')\n",
    "#filter data\n",
    "consales = df[df['Segment']=='Consumer']\n",
    "\n",
    "n= consales[[\"Sales\"]].count()\n",
    "degf=n-1\n",
    "mean = consales[[\"Sales\"]].mean()\n",
    "stdev = consales[[\"Sales\"]].std()\n",
    "stderr = stdev/n**0.5\n",
    "\n",
    "cics = st.t.interval(0.95,degf, mean, stderr )\n",
    "\n",
    "print('Upper bound is %.3f' %cics[1])\n",
    "print('Lower bound is %.3f' %cics[0])\n",
    "\n",
    "\n",
    "#True population mean for consumer sales\n",
    "dfp = pd.read_excel('Major Assignment Superstore Data.xlsx','Orders')\n",
    "CSpop = dfp[dfp['Segment']=='Consumer']\n",
    "meanp = CSpop[['Sales']].mean()\n",
    "print('The true mean is $%.3f' %meanp)"
   ]
  },
  {
   "cell_type": "code",
   "execution_count": null,
   "id": "ebef90c7",
   "metadata": {},
   "outputs": [],
   "source": []
  },
  {
   "cell_type": "code",
   "execution_count": null,
   "id": "f3fd34d4",
   "metadata": {},
   "outputs": [],
   "source": []
  },
  {
   "cell_type": "code",
   "execution_count": null,
   "id": "3b493e19",
   "metadata": {},
   "outputs": [],
   "source": []
  },
  {
   "cell_type": "code",
   "execution_count": null,
   "id": "8fd8cf20",
   "metadata": {},
   "outputs": [],
   "source": []
  },
  {
   "cell_type": "code",
   "execution_count": null,
   "id": "7802d1bb",
   "metadata": {},
   "outputs": [],
   "source": []
  },
  {
   "cell_type": "code",
   "execution_count": null,
   "id": "ec721f7b",
   "metadata": {},
   "outputs": [],
   "source": []
  },
  {
   "cell_type": "code",
   "execution_count": null,
   "id": "eb232a88",
   "metadata": {},
   "outputs": [],
   "source": []
  }
 ],
 "metadata": {
  "kernelspec": {
   "display_name": "Python 3 (ipykernel)",
   "language": "python",
   "name": "python3"
  },
  "language_info": {
   "codemirror_mode": {
    "name": "ipython",
    "version": 3
   },
   "file_extension": ".py",
   "mimetype": "text/x-python",
   "name": "python",
   "nbconvert_exporter": "python",
   "pygments_lexer": "ipython3",
   "version": "3.9.13"
  }
 },
 "nbformat": 4,
 "nbformat_minor": 5
}
