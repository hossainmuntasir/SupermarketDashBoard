{
 "cells": [
  {
   "cell_type": "code",
   "execution_count": 17,
   "id": "8b8ead5c",
   "metadata": {},
   "outputs": [
    {
     "name": "stdout",
     "output_type": "stream",
     "text": [
      "Question 1\n",
      "Q1a P(0<z 2.33) is  0.4901\n",
      "Q1b P(-1 <z 1 ) is  0.6827\n",
      "Q1c P(1.78 <z 2.34) is  0.0279\n",
      "Question 2\n",
      "Q2a P(X> 1550) is  0.0027\n",
      "Q2b P(X> 1485) is  0.2023\n",
      "Q2c P(X> 1475 or X>1535) is  0.1084\n",
      "Question 4\n",
      "Q4a P(x>x0) = 0.05 is 18.3701\n",
      "Q4b P(x<x0) = 0.975 is 19.2839\n",
      "Q4c P(mean -x0 <X <x0) = 0.95 upper value is 19.2839\n",
      "Q4c P(mean -x0 <X <x0) = 0.95 lower value is 7.9161\n",
      "Q4c X0 is  5.6839\n",
      "Question 5\n",
      "Q5a P(x<x0) = 0.75 is 30.3959\n",
      "Q5b P(x<x0) = 0.80 is 18.267\n",
      "Q5c P(mean -x0 <X <x0) = 0.90 upper value is 38.1588\n",
      "Q5c P(mean -x0 <X <x0) = 0.90 lower value is 11.8412\n"
     ]
    }
   ],
   "source": [
    "import scipy.stats as st\n",
    "\n",
    "#question 1 \n",
    "print(\"Question 1\")\n",
    "print(\"Q1a P(0<z 2.33) is \", round(st.norm.cdf(2.33,0,1)- st.norm.cdf(0,0,1),4))\n",
    "print(\"Q1b P(-1 <z 1 ) is \", round(st.norm.cdf(1,0,1)- st.norm.cdf(-1,0,1),4))\n",
    "print(\"Q1c P(1.78 <z 2.34) is \", round(st.norm.cdf(2.34,0,1)- st.norm.cdf(1.78,0,1),4))\n",
    "\n",
    "#Question 2\n",
    "print('Question 2')\n",
    "print('Q2a P(X> 1550) is ', round(st.norm.sf(1550,1500,18),4))\n",
    "print('Q2b P(X> 1485) is ', round(st.norm.cdf(1485,1500,18),4))\n",
    "print('Q2c P(X> 1475 or X>1535) is ', round(st.norm.cdf(1475,1500,18)+ st.norm.sf(1535,1500,18),4))\n",
    "\n",
    "#Question 4\n",
    "print('Question 4')\n",
    "print(\"Q4a P(x>x0) = 0.05 is\", round(st.norm.isf(0.05,13.6,2.9),4))\n",
    "print(\"Q4b P(x<x0) = 0.975 is\", round(st.norm.ppf(0.975,13.6,2.9),4))\n",
    "print(\"Q4c P(mean -x0 <X <x0) = 0.95 upper value is\", round(st.norm.ppf(0.975,13.6,2.9),4))\n",
    "print(\"Q4c P(mean -x0 <X <x0) = 0.95 lower value is\", round(st.norm.ppf(0.025,13.6,2.9),4))\n",
    "print('Q4c X0 is ',round(st.norm.ppf(0.975,13.6,2.9)-13.6,4))\n",
    "\n",
    "#Question 5\n",
    "print('Question 5')\n",
    "print('Q5a P(x<x0) = 0.75 is',round(st.norm.ppf(0.75,25,8),4) )\n",
    "print('Q5b P(x<x0) = 0.80 is',round(st.norm.isf(0.80,25,8),4) )\n",
    "print(\"Q5c P(mean -x0 <X <x0) = 0.90 upper value is\", round(st.norm.ppf(0.95,25,8),4))\n",
    "print(\"Q5c P(mean -x0 <X <x0) = 0.90 lower value is\", round(st.norm.ppf(0.05,25,8),4))"
   ]
  },
  {
   "cell_type": "code",
   "execution_count": null,
   "id": "7df03342",
   "metadata": {},
   "outputs": [],
   "source": []
  },
  {
   "cell_type": "code",
   "execution_count": null,
   "id": "5132f9f8",
   "metadata": {},
   "outputs": [],
   "source": []
  }
 ],
 "metadata": {
  "kernelspec": {
   "display_name": "Python 3 (ipykernel)",
   "language": "python",
   "name": "python3"
  },
  "language_info": {
   "codemirror_mode": {
    "name": "ipython",
    "version": 3
   },
   "file_extension": ".py",
   "mimetype": "text/x-python",
   "name": "python",
   "nbconvert_exporter": "python",
   "pygments_lexer": "ipython3",
   "version": "3.9.13"
  }
 },
 "nbformat": 4,
 "nbformat_minor": 5
}
