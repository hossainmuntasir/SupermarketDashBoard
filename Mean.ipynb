{
 "cells": [
  {
   "cell_type": "code",
   "execution_count": 20,
   "id": "0cc73fca",
   "metadata": {},
   "outputs": [
    {
     "name": "stdout",
     "output_type": "stream",
     "text": [
      "mean of 10.5\n",
      "median of 6.0\n",
      "mode is 0    6.0\n",
      "Name: Profit, dtype: float64\n",
      "sample standard deviation is  8.100925873009825\n",
      "sample variance is  65.625\n",
      "population variace is  58.333333333333336\n",
      "interquartile range is  6.0\n",
      "Summary stats are count     9.000\n",
      "mean     10.500\n",
      "std       8.101\n",
      "min       3.000\n",
      "25%       6.000\n",
      "50%       6.000\n",
      "75%      12.000\n",
      "max      28.000\n",
      "Name: Profit, dtype: float64\n"
     ]
    }
   ],
   "source": [
    "import pandas as pd\n",
    "df = pd.read_excel(\"Mean.xlsx\")\n",
    "\n",
    "print(\"mean of\", df[\"Profit\"].mean())\n",
    "print(\"median of\", df[\"Profit\"].median())\n",
    "print(\"mode is\", df[\"Profit\"].mode())\n",
    "print(\"sample standard deviation is \",df[\"Profit\"].std())\n",
    "print(\"sample variance is \",df[\"Profit\"].var())\n",
    "print(\"population variace is \", df[\"Profit\"].var(ddof= 0))\n",
    "\n",
    "q1 = df[\"Profit\"].quantile(q=0.25)\n",
    "q3 = df[\"Profit\"].quantile(q=0.75)\n",
    "print(\"interquartile range is \", q3-q1)\n",
    "\n",
    "#produce summery stats for profit\n",
    "summary = df[\"Profit\"].describe()\n",
    "print(\"Summary stats are\", round(summary,3))\n"
   ]
  },
  {
   "cell_type": "code",
   "execution_count": null,
   "id": "8fd82b2e",
   "metadata": {},
   "outputs": [],
   "source": []
  },
  {
   "cell_type": "code",
   "execution_count": null,
   "id": "2838986f",
   "metadata": {},
   "outputs": [],
   "source": []
  },
  {
   "cell_type": "code",
   "execution_count": null,
   "id": "0f6b9b38",
   "metadata": {},
   "outputs": [],
   "source": []
  },
  {
   "cell_type": "code",
   "execution_count": null,
   "id": "689b1861",
   "metadata": {},
   "outputs": [],
   "source": []
  }
 ],
 "metadata": {
  "kernelspec": {
   "display_name": "Python 3 (ipykernel)",
   "language": "python",
   "name": "python3"
  },
  "language_info": {
   "codemirror_mode": {
    "name": "ipython",
    "version": 3
   },
   "file_extension": ".py",
   "mimetype": "text/x-python",
   "name": "python",
   "nbconvert_exporter": "python",
   "pygments_lexer": "ipython3",
   "version": "3.9.13"
  }
 },
 "nbformat": 4,
 "nbformat_minor": 5
}
